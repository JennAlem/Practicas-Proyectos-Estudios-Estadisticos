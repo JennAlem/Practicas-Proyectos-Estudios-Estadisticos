{
  "nbformat": 4,
  "nbformat_minor": 0,
  "metadata": {
    "colab": {
      "provenance": []
    },
    "kernelspec": {
      "name": "python3",
      "display_name": "Python 3"
    },
    "language_info": {
      "name": "python"
    }
  },
  "cells": [
    {
      "cell_type": "code",
      "execution_count": null,
      "metadata": {
        "colab": {
          "base_uri": "https://localhost:8080/",
          "height": 310
        },
        "id": "UxEGeyjLDnu2",
        "outputId": "c9d434b7-35a5-4bf4-e73d-ea3f0ccf59a4"
      },
      "outputs": [
        {
          "output_type": "execute_result",
          "data": {
            "text/plain": [
              "   Orden      Fecha Hora de Cobro  Mesa  Atendió    Tipo        Producto  \\\n",
              "0    1.0 2014-02-01      18:43:12   1.0  Rodolfo  Bebida          Tecate   \n",
              "1    1.0 2014-02-01      18:43:12   1.0  Rodolfo  Bebida          Tisana   \n",
              "2    1.0 2014-02-01      18:43:12   1.0  Rodolfo  Bebida  Café americano   \n",
              "3    1.0 2014-02-01      18:43:12   1.0  Rodolfo  Bebida       Te helado   \n",
              "4    1.0 2014-02-01      18:43:12   1.0  Rodolfo  Comida  Pera Rostizada   \n",
              "\n",
              "           Categoria  Precio  Costo  Propina Tipo de Cliente  \n",
              "0           Cervezas      25  18.00     0.07   Cliente Nuevo  \n",
              "1  Bebida no Alcohol      25  18.00     0.07   Cliente Nuevo  \n",
              "2  Bebida no Alcohol      18  12.60     0.07   Cliente Nuevo  \n",
              "3  Bebida no Alcohol      25  18.50     0.07   Cliente Nuevo  \n",
              "4          Ensaladas      89  75.65     0.07   Cliente Nuevo  "
            ],
            "text/html": [
              "\n",
              "  <div id=\"df-15e4713e-0ea9-4103-a0b3-fb72a9c45282\" class=\"colab-df-container\">\n",
              "    <div>\n",
              "<style scoped>\n",
              "    .dataframe tbody tr th:only-of-type {\n",
              "        vertical-align: middle;\n",
              "    }\n",
              "\n",
              "    .dataframe tbody tr th {\n",
              "        vertical-align: top;\n",
              "    }\n",
              "\n",
              "    .dataframe thead th {\n",
              "        text-align: right;\n",
              "    }\n",
              "</style>\n",
              "<table border=\"1\" class=\"dataframe\">\n",
              "  <thead>\n",
              "    <tr style=\"text-align: right;\">\n",
              "      <th></th>\n",
              "      <th>Orden</th>\n",
              "      <th>Fecha</th>\n",
              "      <th>Hora de Cobro</th>\n",
              "      <th>Mesa</th>\n",
              "      <th>Atendió</th>\n",
              "      <th>Tipo</th>\n",
              "      <th>Producto</th>\n",
              "      <th>Categoria</th>\n",
              "      <th>Precio</th>\n",
              "      <th>Costo</th>\n",
              "      <th>Propina</th>\n",
              "      <th>Tipo de Cliente</th>\n",
              "    </tr>\n",
              "  </thead>\n",
              "  <tbody>\n",
              "    <tr>\n",
              "      <th>0</th>\n",
              "      <td>1.0</td>\n",
              "      <td>2014-02-01</td>\n",
              "      <td>18:43:12</td>\n",
              "      <td>1.0</td>\n",
              "      <td>Rodolfo</td>\n",
              "      <td>Bebida</td>\n",
              "      <td>Tecate</td>\n",
              "      <td>Cervezas</td>\n",
              "      <td>25</td>\n",
              "      <td>18.00</td>\n",
              "      <td>0.07</td>\n",
              "      <td>Cliente Nuevo</td>\n",
              "    </tr>\n",
              "    <tr>\n",
              "      <th>1</th>\n",
              "      <td>1.0</td>\n",
              "      <td>2014-02-01</td>\n",
              "      <td>18:43:12</td>\n",
              "      <td>1.0</td>\n",
              "      <td>Rodolfo</td>\n",
              "      <td>Bebida</td>\n",
              "      <td>Tisana</td>\n",
              "      <td>Bebida no Alcohol</td>\n",
              "      <td>25</td>\n",
              "      <td>18.00</td>\n",
              "      <td>0.07</td>\n",
              "      <td>Cliente Nuevo</td>\n",
              "    </tr>\n",
              "    <tr>\n",
              "      <th>2</th>\n",
              "      <td>1.0</td>\n",
              "      <td>2014-02-01</td>\n",
              "      <td>18:43:12</td>\n",
              "      <td>1.0</td>\n",
              "      <td>Rodolfo</td>\n",
              "      <td>Bebida</td>\n",
              "      <td>Café americano</td>\n",
              "      <td>Bebida no Alcohol</td>\n",
              "      <td>18</td>\n",
              "      <td>12.60</td>\n",
              "      <td>0.07</td>\n",
              "      <td>Cliente Nuevo</td>\n",
              "    </tr>\n",
              "    <tr>\n",
              "      <th>3</th>\n",
              "      <td>1.0</td>\n",
              "      <td>2014-02-01</td>\n",
              "      <td>18:43:12</td>\n",
              "      <td>1.0</td>\n",
              "      <td>Rodolfo</td>\n",
              "      <td>Bebida</td>\n",
              "      <td>Te helado</td>\n",
              "      <td>Bebida no Alcohol</td>\n",
              "      <td>25</td>\n",
              "      <td>18.50</td>\n",
              "      <td>0.07</td>\n",
              "      <td>Cliente Nuevo</td>\n",
              "    </tr>\n",
              "    <tr>\n",
              "      <th>4</th>\n",
              "      <td>1.0</td>\n",
              "      <td>2014-02-01</td>\n",
              "      <td>18:43:12</td>\n",
              "      <td>1.0</td>\n",
              "      <td>Rodolfo</td>\n",
              "      <td>Comida</td>\n",
              "      <td>Pera Rostizada</td>\n",
              "      <td>Ensaladas</td>\n",
              "      <td>89</td>\n",
              "      <td>75.65</td>\n",
              "      <td>0.07</td>\n",
              "      <td>Cliente Nuevo</td>\n",
              "    </tr>\n",
              "  </tbody>\n",
              "</table>\n",
              "</div>\n",
              "    <div class=\"colab-df-buttons\">\n",
              "\n",
              "  <div class=\"colab-df-container\">\n",
              "    <button class=\"colab-df-convert\" onclick=\"convertToInteractive('df-15e4713e-0ea9-4103-a0b3-fb72a9c45282')\"\n",
              "            title=\"Convert this dataframe to an interactive table.\"\n",
              "            style=\"display:none;\">\n",
              "\n",
              "  <svg xmlns=\"http://www.w3.org/2000/svg\" height=\"24px\" viewBox=\"0 -960 960 960\">\n",
              "    <path d=\"M120-120v-720h720v720H120Zm60-500h600v-160H180v160Zm220 220h160v-160H400v160Zm0 220h160v-160H400v160ZM180-400h160v-160H180v160Zm440 0h160v-160H620v160ZM180-180h160v-160H180v160Zm440 0h160v-160H620v160Z\"/>\n",
              "  </svg>\n",
              "    </button>\n",
              "\n",
              "  <style>\n",
              "    .colab-df-container {\n",
              "      display:flex;\n",
              "      gap: 12px;\n",
              "    }\n",
              "\n",
              "    .colab-df-convert {\n",
              "      background-color: #E8F0FE;\n",
              "      border: none;\n",
              "      border-radius: 50%;\n",
              "      cursor: pointer;\n",
              "      display: none;\n",
              "      fill: #1967D2;\n",
              "      height: 32px;\n",
              "      padding: 0 0 0 0;\n",
              "      width: 32px;\n",
              "    }\n",
              "\n",
              "    .colab-df-convert:hover {\n",
              "      background-color: #E2EBFA;\n",
              "      box-shadow: 0px 1px 2px rgba(60, 64, 67, 0.3), 0px 1px 3px 1px rgba(60, 64, 67, 0.15);\n",
              "      fill: #174EA6;\n",
              "    }\n",
              "\n",
              "    .colab-df-buttons div {\n",
              "      margin-bottom: 4px;\n",
              "    }\n",
              "\n",
              "    [theme=dark] .colab-df-convert {\n",
              "      background-color: #3B4455;\n",
              "      fill: #D2E3FC;\n",
              "    }\n",
              "\n",
              "    [theme=dark] .colab-df-convert:hover {\n",
              "      background-color: #434B5C;\n",
              "      box-shadow: 0px 1px 3px 1px rgba(0, 0, 0, 0.15);\n",
              "      filter: drop-shadow(0px 1px 2px rgba(0, 0, 0, 0.3));\n",
              "      fill: #FFFFFF;\n",
              "    }\n",
              "  </style>\n",
              "\n",
              "    <script>\n",
              "      const buttonEl =\n",
              "        document.querySelector('#df-15e4713e-0ea9-4103-a0b3-fb72a9c45282 button.colab-df-convert');\n",
              "      buttonEl.style.display =\n",
              "        google.colab.kernel.accessAllowed ? 'block' : 'none';\n",
              "\n",
              "      async function convertToInteractive(key) {\n",
              "        const element = document.querySelector('#df-15e4713e-0ea9-4103-a0b3-fb72a9c45282');\n",
              "        const dataTable =\n",
              "          await google.colab.kernel.invokeFunction('convertToInteractive',\n",
              "                                                    [key], {});\n",
              "        if (!dataTable) return;\n",
              "\n",
              "        const docLinkHtml = 'Like what you see? Visit the ' +\n",
              "          '<a target=\"_blank\" href=https://colab.research.google.com/notebooks/data_table.ipynb>data table notebook</a>'\n",
              "          + ' to learn more about interactive tables.';\n",
              "        element.innerHTML = '';\n",
              "        dataTable['output_type'] = 'display_data';\n",
              "        await google.colab.output.renderOutput(dataTable, element);\n",
              "        const docLink = document.createElement('div');\n",
              "        docLink.innerHTML = docLinkHtml;\n",
              "        element.appendChild(docLink);\n",
              "      }\n",
              "    </script>\n",
              "  </div>\n",
              "\n",
              "\n",
              "<div id=\"df-e2211a57-5e02-43e3-a300-a918eef6456a\">\n",
              "  <button class=\"colab-df-quickchart\" onclick=\"quickchart('df-e2211a57-5e02-43e3-a300-a918eef6456a')\"\n",
              "            title=\"Suggest charts.\"\n",
              "            style=\"display:none;\">\n",
              "\n",
              "<svg xmlns=\"http://www.w3.org/2000/svg\" height=\"24px\"viewBox=\"0 0 24 24\"\n",
              "     width=\"24px\">\n",
              "    <g>\n",
              "        <path d=\"M19 3H5c-1.1 0-2 .9-2 2v14c0 1.1.9 2 2 2h14c1.1 0 2-.9 2-2V5c0-1.1-.9-2-2-2zM9 17H7v-7h2v7zm4 0h-2V7h2v10zm4 0h-2v-4h2v4z\"/>\n",
              "    </g>\n",
              "</svg>\n",
              "  </button>\n",
              "\n",
              "<style>\n",
              "  .colab-df-quickchart {\n",
              "    background-color: #E8F0FE;\n",
              "    border: none;\n",
              "    border-radius: 50%;\n",
              "    cursor: pointer;\n",
              "    display: none;\n",
              "    fill: #1967D2;\n",
              "    height: 32px;\n",
              "    padding: 0 0 0 0;\n",
              "    width: 32px;\n",
              "  }\n",
              "\n",
              "  .colab-df-quickchart:hover {\n",
              "    background-color: #E2EBFA;\n",
              "    box-shadow: 0px 1px 2px rgba(60, 64, 67, 0.3), 0px 1px 3px 1px rgba(60, 64, 67, 0.15);\n",
              "    fill: #174EA6;\n",
              "  }\n",
              "\n",
              "  [theme=dark] .colab-df-quickchart {\n",
              "    background-color: #3B4455;\n",
              "    fill: #D2E3FC;\n",
              "  }\n",
              "\n",
              "  [theme=dark] .colab-df-quickchart:hover {\n",
              "    background-color: #434B5C;\n",
              "    box-shadow: 0px 1px 3px 1px rgba(0, 0, 0, 0.15);\n",
              "    filter: drop-shadow(0px 1px 2px rgba(0, 0, 0, 0.3));\n",
              "    fill: #FFFFFF;\n",
              "  }\n",
              "</style>\n",
              "\n",
              "  <script>\n",
              "    async function quickchart(key) {\n",
              "      const charts = await google.colab.kernel.invokeFunction(\n",
              "          'suggestCharts', [key], {});\n",
              "    }\n",
              "    (() => {\n",
              "      let quickchartButtonEl =\n",
              "        document.querySelector('#df-e2211a57-5e02-43e3-a300-a918eef6456a button');\n",
              "      quickchartButtonEl.style.display =\n",
              "        google.colab.kernel.accessAllowed ? 'block' : 'none';\n",
              "    })();\n",
              "  </script>\n",
              "</div>\n",
              "    </div>\n",
              "  </div>\n"
            ]
          },
          "metadata": {},
          "execution_count": 64
        }
      ],
      "source": [
        "import pandas as pd\n",
        "\n",
        "airlines = pd.read_excel(\"Restaurante.xlsx\")\n",
        "airlines.head()"
      ]
    },
    {
      "cell_type": "code",
      "source": [
        "airlines.columns"
      ],
      "metadata": {
        "colab": {
          "base_uri": "https://localhost:8080/"
        },
        "id": "xq82DeJmFfc7",
        "outputId": "188df00e-0499-43fa-82bf-3a1e14204f43"
      },
      "execution_count": null,
      "outputs": [
        {
          "output_type": "execute_result",
          "data": {
            "text/plain": [
              "Index(['Orden', 'Fecha', 'Hora de Cobro', 'Mesa', 'Atendió', 'Tipo',\n",
              "       'Producto', 'Categoria', 'Precio', 'Costo', 'Propina',\n",
              "       'Tipo de Cliente'],\n",
              "      dtype='object')"
            ]
          },
          "metadata": {},
          "execution_count": 65
        }
      ]
    },
    {
      "cell_type": "markdown",
      "source": [
        "**Importar librerias necesarias**\n",
        "\n"
      ],
      "metadata": {
        "id": "F-kjLF8XEeRR"
      }
    },
    {
      "cell_type": "code",
      "source": [
        "import pandas as pd\n",
        "import matplotlib.pyplot as plt"
      ],
      "metadata": {
        "id": "TpSvtBewEcZ9"
      },
      "execution_count": null,
      "outputs": []
    },
    {
      "cell_type": "code",
      "source": [
        "airlines = airlines[['Atendió','Producto','Precio', 'Costo', 'Tipo de Cliente']]"
      ],
      "metadata": {
        "id": "VydOjZ4WEqGe"
      },
      "execution_count": null,
      "outputs": []
    },
    {
      "cell_type": "markdown",
      "source": [
        "# Inspeccionar las primeras 2 filas y los tipos de datos del conjunto de datos"
      ],
      "metadata": {
        "id": "DaUpAbdMNTVs"
      }
    },
    {
      "cell_type": "code",
      "source": [
        "airlines.head()"
      ],
      "metadata": {
        "colab": {
          "base_uri": "https://localhost:8080/",
          "height": 206
        },
        "id": "mj0xggnsGJ0U",
        "outputId": "7832648e-00df-4c2d-cbd5-d388ec680178"
      },
      "execution_count": null,
      "outputs": [
        {
          "output_type": "execute_result",
          "data": {
            "text/plain": [
              "   Atendió        Producto  Precio  Costo Tipo de Cliente\n",
              "0  Rodolfo          Tecate      25  18.00   Cliente Nuevo\n",
              "1  Rodolfo          Tisana      25  18.00   Cliente Nuevo\n",
              "2  Rodolfo  Café americano      18  12.60   Cliente Nuevo\n",
              "3  Rodolfo       Te helado      25  18.50   Cliente Nuevo\n",
              "4  Rodolfo  Pera Rostizada      89  75.65   Cliente Nuevo"
            ],
            "text/html": [
              "\n",
              "  <div id=\"df-0e4dec9c-a251-41d7-b54a-7149f6bdd5b5\" class=\"colab-df-container\">\n",
              "    <div>\n",
              "<style scoped>\n",
              "    .dataframe tbody tr th:only-of-type {\n",
              "        vertical-align: middle;\n",
              "    }\n",
              "\n",
              "    .dataframe tbody tr th {\n",
              "        vertical-align: top;\n",
              "    }\n",
              "\n",
              "    .dataframe thead th {\n",
              "        text-align: right;\n",
              "    }\n",
              "</style>\n",
              "<table border=\"1\" class=\"dataframe\">\n",
              "  <thead>\n",
              "    <tr style=\"text-align: right;\">\n",
              "      <th></th>\n",
              "      <th>Atendió</th>\n",
              "      <th>Producto</th>\n",
              "      <th>Precio</th>\n",
              "      <th>Costo</th>\n",
              "      <th>Tipo de Cliente</th>\n",
              "    </tr>\n",
              "  </thead>\n",
              "  <tbody>\n",
              "    <tr>\n",
              "      <th>0</th>\n",
              "      <td>Rodolfo</td>\n",
              "      <td>Tecate</td>\n",
              "      <td>25</td>\n",
              "      <td>18.00</td>\n",
              "      <td>Cliente Nuevo</td>\n",
              "    </tr>\n",
              "    <tr>\n",
              "      <th>1</th>\n",
              "      <td>Rodolfo</td>\n",
              "      <td>Tisana</td>\n",
              "      <td>25</td>\n",
              "      <td>18.00</td>\n",
              "      <td>Cliente Nuevo</td>\n",
              "    </tr>\n",
              "    <tr>\n",
              "      <th>2</th>\n",
              "      <td>Rodolfo</td>\n",
              "      <td>Café americano</td>\n",
              "      <td>18</td>\n",
              "      <td>12.60</td>\n",
              "      <td>Cliente Nuevo</td>\n",
              "    </tr>\n",
              "    <tr>\n",
              "      <th>3</th>\n",
              "      <td>Rodolfo</td>\n",
              "      <td>Te helado</td>\n",
              "      <td>25</td>\n",
              "      <td>18.50</td>\n",
              "      <td>Cliente Nuevo</td>\n",
              "    </tr>\n",
              "    <tr>\n",
              "      <th>4</th>\n",
              "      <td>Rodolfo</td>\n",
              "      <td>Pera Rostizada</td>\n",
              "      <td>89</td>\n",
              "      <td>75.65</td>\n",
              "      <td>Cliente Nuevo</td>\n",
              "    </tr>\n",
              "  </tbody>\n",
              "</table>\n",
              "</div>\n",
              "    <div class=\"colab-df-buttons\">\n",
              "\n",
              "  <div class=\"colab-df-container\">\n",
              "    <button class=\"colab-df-convert\" onclick=\"convertToInteractive('df-0e4dec9c-a251-41d7-b54a-7149f6bdd5b5')\"\n",
              "            title=\"Convert this dataframe to an interactive table.\"\n",
              "            style=\"display:none;\">\n",
              "\n",
              "  <svg xmlns=\"http://www.w3.org/2000/svg\" height=\"24px\" viewBox=\"0 -960 960 960\">\n",
              "    <path d=\"M120-120v-720h720v720H120Zm60-500h600v-160H180v160Zm220 220h160v-160H400v160Zm0 220h160v-160H400v160ZM180-400h160v-160H180v160Zm440 0h160v-160H620v160ZM180-180h160v-160H180v160Zm440 0h160v-160H620v160Z\"/>\n",
              "  </svg>\n",
              "    </button>\n",
              "\n",
              "  <style>\n",
              "    .colab-df-container {\n",
              "      display:flex;\n",
              "      gap: 12px;\n",
              "    }\n",
              "\n",
              "    .colab-df-convert {\n",
              "      background-color: #E8F0FE;\n",
              "      border: none;\n",
              "      border-radius: 50%;\n",
              "      cursor: pointer;\n",
              "      display: none;\n",
              "      fill: #1967D2;\n",
              "      height: 32px;\n",
              "      padding: 0 0 0 0;\n",
              "      width: 32px;\n",
              "    }\n",
              "\n",
              "    .colab-df-convert:hover {\n",
              "      background-color: #E2EBFA;\n",
              "      box-shadow: 0px 1px 2px rgba(60, 64, 67, 0.3), 0px 1px 3px 1px rgba(60, 64, 67, 0.15);\n",
              "      fill: #174EA6;\n",
              "    }\n",
              "\n",
              "    .colab-df-buttons div {\n",
              "      margin-bottom: 4px;\n",
              "    }\n",
              "\n",
              "    [theme=dark] .colab-df-convert {\n",
              "      background-color: #3B4455;\n",
              "      fill: #D2E3FC;\n",
              "    }\n",
              "\n",
              "    [theme=dark] .colab-df-convert:hover {\n",
              "      background-color: #434B5C;\n",
              "      box-shadow: 0px 1px 3px 1px rgba(0, 0, 0, 0.15);\n",
              "      filter: drop-shadow(0px 1px 2px rgba(0, 0, 0, 0.3));\n",
              "      fill: #FFFFFF;\n",
              "    }\n",
              "  </style>\n",
              "\n",
              "    <script>\n",
              "      const buttonEl =\n",
              "        document.querySelector('#df-0e4dec9c-a251-41d7-b54a-7149f6bdd5b5 button.colab-df-convert');\n",
              "      buttonEl.style.display =\n",
              "        google.colab.kernel.accessAllowed ? 'block' : 'none';\n",
              "\n",
              "      async function convertToInteractive(key) {\n",
              "        const element = document.querySelector('#df-0e4dec9c-a251-41d7-b54a-7149f6bdd5b5');\n",
              "        const dataTable =\n",
              "          await google.colab.kernel.invokeFunction('convertToInteractive',\n",
              "                                                    [key], {});\n",
              "        if (!dataTable) return;\n",
              "\n",
              "        const docLinkHtml = 'Like what you see? Visit the ' +\n",
              "          '<a target=\"_blank\" href=https://colab.research.google.com/notebooks/data_table.ipynb>data table notebook</a>'\n",
              "          + ' to learn more about interactive tables.';\n",
              "        element.innerHTML = '';\n",
              "        dataTable['output_type'] = 'display_data';\n",
              "        await google.colab.output.renderOutput(dataTable, element);\n",
              "        const docLink = document.createElement('div');\n",
              "        docLink.innerHTML = docLinkHtml;\n",
              "        element.appendChild(docLink);\n",
              "      }\n",
              "    </script>\n",
              "  </div>\n",
              "\n",
              "\n",
              "<div id=\"df-a38d0266-381d-4fbb-a042-bdd03d9f3617\">\n",
              "  <button class=\"colab-df-quickchart\" onclick=\"quickchart('df-a38d0266-381d-4fbb-a042-bdd03d9f3617')\"\n",
              "            title=\"Suggest charts.\"\n",
              "            style=\"display:none;\">\n",
              "\n",
              "<svg xmlns=\"http://www.w3.org/2000/svg\" height=\"24px\"viewBox=\"0 0 24 24\"\n",
              "     width=\"24px\">\n",
              "    <g>\n",
              "        <path d=\"M19 3H5c-1.1 0-2 .9-2 2v14c0 1.1.9 2 2 2h14c1.1 0 2-.9 2-2V5c0-1.1-.9-2-2-2zM9 17H7v-7h2v7zm4 0h-2V7h2v10zm4 0h-2v-4h2v4z\"/>\n",
              "    </g>\n",
              "</svg>\n",
              "  </button>\n",
              "\n",
              "<style>\n",
              "  .colab-df-quickchart {\n",
              "    background-color: #E8F0FE;\n",
              "    border: none;\n",
              "    border-radius: 50%;\n",
              "    cursor: pointer;\n",
              "    display: none;\n",
              "    fill: #1967D2;\n",
              "    height: 32px;\n",
              "    padding: 0 0 0 0;\n",
              "    width: 32px;\n",
              "  }\n",
              "\n",
              "  .colab-df-quickchart:hover {\n",
              "    background-color: #E2EBFA;\n",
              "    box-shadow: 0px 1px 2px rgba(60, 64, 67, 0.3), 0px 1px 3px 1px rgba(60, 64, 67, 0.15);\n",
              "    fill: #174EA6;\n",
              "  }\n",
              "\n",
              "  [theme=dark] .colab-df-quickchart {\n",
              "    background-color: #3B4455;\n",
              "    fill: #D2E3FC;\n",
              "  }\n",
              "\n",
              "  [theme=dark] .colab-df-quickchart:hover {\n",
              "    background-color: #434B5C;\n",
              "    box-shadow: 0px 1px 3px 1px rgba(0, 0, 0, 0.15);\n",
              "    filter: drop-shadow(0px 1px 2px rgba(0, 0, 0, 0.3));\n",
              "    fill: #FFFFFF;\n",
              "  }\n",
              "</style>\n",
              "\n",
              "  <script>\n",
              "    async function quickchart(key) {\n",
              "      const charts = await google.colab.kernel.invokeFunction(\n",
              "          'suggestCharts', [key], {});\n",
              "    }\n",
              "    (() => {\n",
              "      let quickchartButtonEl =\n",
              "        document.querySelector('#df-a38d0266-381d-4fbb-a042-bdd03d9f3617 button');\n",
              "      quickchartButtonEl.style.display =\n",
              "        google.colab.kernel.accessAllowed ? 'block' : 'none';\n",
              "    })();\n",
              "  </script>\n",
              "</div>\n",
              "    </div>\n",
              "  </div>\n"
            ]
          },
          "metadata": {},
          "execution_count": 68
        }
      ]
    },
    {
      "cell_type": "code",
      "source": [
        "airlines.shape"
      ],
      "metadata": {
        "colab": {
          "base_uri": "https://localhost:8080/"
        },
        "id": "uj1YJU9QGf_x",
        "outputId": "5821de72-82fb-4cd4-c77c-f45660f2d777"
      },
      "execution_count": null,
      "outputs": [
        {
          "output_type": "execute_result",
          "data": {
            "text/plain": [
              "(30133, 5)"
            ]
          },
          "metadata": {},
          "execution_count": 69
        }
      ]
    },
    {
      "cell_type": "code",
      "source": [
        "airlines.dtypes"
      ],
      "metadata": {
        "colab": {
          "base_uri": "https://localhost:8080/"
        },
        "id": "2SW9tImUGpIv",
        "outputId": "6d7c33e5-1f71-4bec-cf55-2fec769e3236"
      },
      "execution_count": null,
      "outputs": [
        {
          "output_type": "execute_result",
          "data": {
            "text/plain": [
              "Atendió             object\n",
              "Producto            object\n",
              "Precio               int64\n",
              "Costo              float64\n",
              "Tipo de Cliente     object\n",
              "dtype: object"
            ]
          },
          "metadata": {},
          "execution_count": 70
        }
      ]
    },
    {
      "cell_type": "markdown",
      "source": [
        "Crear una variable de margen de beneficio\n",
        "= Precio de venta - Costo del producto"
      ],
      "metadata": {
        "id": "MIupf2ZXH7am"
      }
    },
    {
      "cell_type": "code",
      "source": [
        "airlines['Margen de beneficio'] = airlines['Precio']-airlines['Costo']"
      ],
      "metadata": {
        "id": "-aJeM9L_ITI9"
      },
      "execution_count": null,
      "outputs": []
    },
    {
      "cell_type": "markdown",
      "source": [
        "# Ordenar productos según Margen de Benenficios"
      ],
      "metadata": {
        "id": "OXmi41YLI8en"
      }
    },
    {
      "cell_type": "code",
      "source": [
        "airlines_sorted = airlines.sort_values('Margen de beneficio', ascending = False)"
      ],
      "metadata": {
        "id": "XwbLm5KeJGii"
      },
      "execution_count": null,
      "outputs": []
    },
    {
      "cell_type": "code",
      "source": [
        "airlines.dtypes"
      ],
      "metadata": {
        "colab": {
          "base_uri": "https://localhost:8080/"
        },
        "id": "nE-E22GmMz_d",
        "outputId": "d0fc6b11-dafa-42b6-a7fd-8dca6a6f7cb6"
      },
      "execution_count": null,
      "outputs": [
        {
          "output_type": "execute_result",
          "data": {
            "text/plain": [
              "Atendió                 object\n",
              "Producto                object\n",
              "Precio                   int64\n",
              "Costo                  float64\n",
              "Tipo de Cliente         object\n",
              "Margen de beneficio    float64\n",
              "dtype: object"
            ]
          },
          "metadata": {},
          "execution_count": 76
        }
      ]
    },
    {
      "cell_type": "code",
      "source": [
        "airlines_sorted.head()"
      ],
      "metadata": {
        "colab": {
          "base_uri": "https://localhost:8080/",
          "height": 206
        },
        "id": "RcfQBzCZJkoO",
        "outputId": "664fcd6d-c3c9-4594-cd7f-0f48ead2f4ad"
      },
      "execution_count": null,
      "outputs": [
        {
          "output_type": "execute_result",
          "data": {
            "text/plain": [
              "         Atendió Producto  Precio   Costo   Tipo de Cliente  \\\n",
              "20427    Mariana  Vino 10     708  431.88  Cliente Repetido   \n",
              "6620        Joel  Vino 10     708  431.88  Cliente Repetido   \n",
              "23752  Alejandro  Vino 10     708  431.88  Cliente Repetido   \n",
              "28732       Saul  Vino 10     708  431.88     Cliente Nuevo   \n",
              "2987        Saul  Vino 10     708  431.88  Cliente Repetido   \n",
              "\n",
              "       Margen de beneficio  \n",
              "20427               276.12  \n",
              "6620                276.12  \n",
              "23752               276.12  \n",
              "28732               276.12  \n",
              "2987                276.12  "
            ],
            "text/html": [
              "\n",
              "  <div id=\"df-077a9510-f047-4f03-b112-9111cc465571\" class=\"colab-df-container\">\n",
              "    <div>\n",
              "<style scoped>\n",
              "    .dataframe tbody tr th:only-of-type {\n",
              "        vertical-align: middle;\n",
              "    }\n",
              "\n",
              "    .dataframe tbody tr th {\n",
              "        vertical-align: top;\n",
              "    }\n",
              "\n",
              "    .dataframe thead th {\n",
              "        text-align: right;\n",
              "    }\n",
              "</style>\n",
              "<table border=\"1\" class=\"dataframe\">\n",
              "  <thead>\n",
              "    <tr style=\"text-align: right;\">\n",
              "      <th></th>\n",
              "      <th>Atendió</th>\n",
              "      <th>Producto</th>\n",
              "      <th>Precio</th>\n",
              "      <th>Costo</th>\n",
              "      <th>Tipo de Cliente</th>\n",
              "      <th>Margen de beneficio</th>\n",
              "    </tr>\n",
              "  </thead>\n",
              "  <tbody>\n",
              "    <tr>\n",
              "      <th>20427</th>\n",
              "      <td>Mariana</td>\n",
              "      <td>Vino 10</td>\n",
              "      <td>708</td>\n",
              "      <td>431.88</td>\n",
              "      <td>Cliente Repetido</td>\n",
              "      <td>276.12</td>\n",
              "    </tr>\n",
              "    <tr>\n",
              "      <th>6620</th>\n",
              "      <td>Joel</td>\n",
              "      <td>Vino 10</td>\n",
              "      <td>708</td>\n",
              "      <td>431.88</td>\n",
              "      <td>Cliente Repetido</td>\n",
              "      <td>276.12</td>\n",
              "    </tr>\n",
              "    <tr>\n",
              "      <th>23752</th>\n",
              "      <td>Alejandro</td>\n",
              "      <td>Vino 10</td>\n",
              "      <td>708</td>\n",
              "      <td>431.88</td>\n",
              "      <td>Cliente Repetido</td>\n",
              "      <td>276.12</td>\n",
              "    </tr>\n",
              "    <tr>\n",
              "      <th>28732</th>\n",
              "      <td>Saul</td>\n",
              "      <td>Vino 10</td>\n",
              "      <td>708</td>\n",
              "      <td>431.88</td>\n",
              "      <td>Cliente Nuevo</td>\n",
              "      <td>276.12</td>\n",
              "    </tr>\n",
              "    <tr>\n",
              "      <th>2987</th>\n",
              "      <td>Saul</td>\n",
              "      <td>Vino 10</td>\n",
              "      <td>708</td>\n",
              "      <td>431.88</td>\n",
              "      <td>Cliente Repetido</td>\n",
              "      <td>276.12</td>\n",
              "    </tr>\n",
              "  </tbody>\n",
              "</table>\n",
              "</div>\n",
              "    <div class=\"colab-df-buttons\">\n",
              "\n",
              "  <div class=\"colab-df-container\">\n",
              "    <button class=\"colab-df-convert\" onclick=\"convertToInteractive('df-077a9510-f047-4f03-b112-9111cc465571')\"\n",
              "            title=\"Convert this dataframe to an interactive table.\"\n",
              "            style=\"display:none;\">\n",
              "\n",
              "  <svg xmlns=\"http://www.w3.org/2000/svg\" height=\"24px\" viewBox=\"0 -960 960 960\">\n",
              "    <path d=\"M120-120v-720h720v720H120Zm60-500h600v-160H180v160Zm220 220h160v-160H400v160Zm0 220h160v-160H400v160ZM180-400h160v-160H180v160Zm440 0h160v-160H620v160ZM180-180h160v-160H180v160Zm440 0h160v-160H620v160Z\"/>\n",
              "  </svg>\n",
              "    </button>\n",
              "\n",
              "  <style>\n",
              "    .colab-df-container {\n",
              "      display:flex;\n",
              "      gap: 12px;\n",
              "    }\n",
              "\n",
              "    .colab-df-convert {\n",
              "      background-color: #E8F0FE;\n",
              "      border: none;\n",
              "      border-radius: 50%;\n",
              "      cursor: pointer;\n",
              "      display: none;\n",
              "      fill: #1967D2;\n",
              "      height: 32px;\n",
              "      padding: 0 0 0 0;\n",
              "      width: 32px;\n",
              "    }\n",
              "\n",
              "    .colab-df-convert:hover {\n",
              "      background-color: #E2EBFA;\n",
              "      box-shadow: 0px 1px 2px rgba(60, 64, 67, 0.3), 0px 1px 3px 1px rgba(60, 64, 67, 0.15);\n",
              "      fill: #174EA6;\n",
              "    }\n",
              "\n",
              "    .colab-df-buttons div {\n",
              "      margin-bottom: 4px;\n",
              "    }\n",
              "\n",
              "    [theme=dark] .colab-df-convert {\n",
              "      background-color: #3B4455;\n",
              "      fill: #D2E3FC;\n",
              "    }\n",
              "\n",
              "    [theme=dark] .colab-df-convert:hover {\n",
              "      background-color: #434B5C;\n",
              "      box-shadow: 0px 1px 3px 1px rgba(0, 0, 0, 0.15);\n",
              "      filter: drop-shadow(0px 1px 2px rgba(0, 0, 0, 0.3));\n",
              "      fill: #FFFFFF;\n",
              "    }\n",
              "  </style>\n",
              "\n",
              "    <script>\n",
              "      const buttonEl =\n",
              "        document.querySelector('#df-077a9510-f047-4f03-b112-9111cc465571 button.colab-df-convert');\n",
              "      buttonEl.style.display =\n",
              "        google.colab.kernel.accessAllowed ? 'block' : 'none';\n",
              "\n",
              "      async function convertToInteractive(key) {\n",
              "        const element = document.querySelector('#df-077a9510-f047-4f03-b112-9111cc465571');\n",
              "        const dataTable =\n",
              "          await google.colab.kernel.invokeFunction('convertToInteractive',\n",
              "                                                    [key], {});\n",
              "        if (!dataTable) return;\n",
              "\n",
              "        const docLinkHtml = 'Like what you see? Visit the ' +\n",
              "          '<a target=\"_blank\" href=https://colab.research.google.com/notebooks/data_table.ipynb>data table notebook</a>'\n",
              "          + ' to learn more about interactive tables.';\n",
              "        element.innerHTML = '';\n",
              "        dataTable['output_type'] = 'display_data';\n",
              "        await google.colab.output.renderOutput(dataTable, element);\n",
              "        const docLink = document.createElement('div');\n",
              "        docLink.innerHTML = docLinkHtml;\n",
              "        element.appendChild(docLink);\n",
              "      }\n",
              "    </script>\n",
              "  </div>\n",
              "\n",
              "\n",
              "<div id=\"df-aedbcf00-f0a5-4b40-9149-7a689becdb55\">\n",
              "  <button class=\"colab-df-quickchart\" onclick=\"quickchart('df-aedbcf00-f0a5-4b40-9149-7a689becdb55')\"\n",
              "            title=\"Suggest charts.\"\n",
              "            style=\"display:none;\">\n",
              "\n",
              "<svg xmlns=\"http://www.w3.org/2000/svg\" height=\"24px\"viewBox=\"0 0 24 24\"\n",
              "     width=\"24px\">\n",
              "    <g>\n",
              "        <path d=\"M19 3H5c-1.1 0-2 .9-2 2v14c0 1.1.9 2 2 2h14c1.1 0 2-.9 2-2V5c0-1.1-.9-2-2-2zM9 17H7v-7h2v7zm4 0h-2V7h2v10zm4 0h-2v-4h2v4z\"/>\n",
              "    </g>\n",
              "</svg>\n",
              "  </button>\n",
              "\n",
              "<style>\n",
              "  .colab-df-quickchart {\n",
              "    background-color: #E8F0FE;\n",
              "    border: none;\n",
              "    border-radius: 50%;\n",
              "    cursor: pointer;\n",
              "    display: none;\n",
              "    fill: #1967D2;\n",
              "    height: 32px;\n",
              "    padding: 0 0 0 0;\n",
              "    width: 32px;\n",
              "  }\n",
              "\n",
              "  .colab-df-quickchart:hover {\n",
              "    background-color: #E2EBFA;\n",
              "    box-shadow: 0px 1px 2px rgba(60, 64, 67, 0.3), 0px 1px 3px 1px rgba(60, 64, 67, 0.15);\n",
              "    fill: #174EA6;\n",
              "  }\n",
              "\n",
              "  [theme=dark] .colab-df-quickchart {\n",
              "    background-color: #3B4455;\n",
              "    fill: #D2E3FC;\n",
              "  }\n",
              "\n",
              "  [theme=dark] .colab-df-quickchart:hover {\n",
              "    background-color: #434B5C;\n",
              "    box-shadow: 0px 1px 3px 1px rgba(0, 0, 0, 0.15);\n",
              "    filter: drop-shadow(0px 1px 2px rgba(0, 0, 0, 0.3));\n",
              "    fill: #FFFFFF;\n",
              "  }\n",
              "</style>\n",
              "\n",
              "  <script>\n",
              "    async function quickchart(key) {\n",
              "      const charts = await google.colab.kernel.invokeFunction(\n",
              "          'suggestCharts', [key], {});\n",
              "    }\n",
              "    (() => {\n",
              "      let quickchartButtonEl =\n",
              "        document.querySelector('#df-aedbcf00-f0a5-4b40-9149-7a689becdb55 button');\n",
              "      quickchartButtonEl.style.display =\n",
              "        google.colab.kernel.accessAllowed ? 'block' : 'none';\n",
              "    })();\n",
              "  </script>\n",
              "</div>\n",
              "    </div>\n",
              "  </div>\n"
            ]
          },
          "metadata": {},
          "execution_count": 77
        }
      ]
    },
    {
      "cell_type": "markdown",
      "source": [
        "# **Trazar un gráfico de barras usando Matplotlib**"
      ],
      "metadata": {
        "id": "87dmrmr5J3Se"
      }
    },
    {
      "cell_type": "code",
      "source": [
        "x = airlines_sorted['Atendió'][0:10]"
      ],
      "metadata": {
        "id": "GrqaI54kJ5qI"
      },
      "execution_count": null,
      "outputs": []
    },
    {
      "cell_type": "code",
      "source": [
        "x"
      ],
      "metadata": {
        "colab": {
          "base_uri": "https://localhost:8080/"
        },
        "id": "IyH-tGoGKO25",
        "outputId": "2b21a8fd-5dd6-4fcd-8052-c83238acfc60"
      },
      "execution_count": null,
      "outputs": [
        {
          "output_type": "execute_result",
          "data": {
            "text/plain": [
              "20427      Mariana\n",
              "6620          Joel\n",
              "23752    Alejandro\n",
              "28732         Saul\n",
              "2987          Saul\n",
              "12975         Saul\n",
              "29835      Rodolfo\n",
              "10155         Omar\n",
              "1723          Joel\n",
              "19307         Saul\n",
              "Name: Atendió, dtype: object"
            ]
          },
          "metadata": {},
          "execution_count": 80
        }
      ]
    },
    {
      "cell_type": "code",
      "source": [
        "import statistics as statistics\n",
        "\n",
        "total_margen = statistics.mean(airlines_sorted['Margen de beneficio'])\n"
      ],
      "metadata": {
        "id": "9d7OiA8rMAr4"
      },
      "execution_count": null,
      "outputs": []
    },
    {
      "cell_type": "code",
      "source": [
        "plt.figure(figsize= (12,6))\n",
        "\n",
        "x = airlines_sorted['Atendió'][0:15]\n",
        "y = airlines_sorted['Margen de beneficio'][0:15]\n",
        "plt.bar(x,y)\n",
        "plt.show()"
      ],
      "metadata": {
        "colab": {
          "base_uri": "https://localhost:8080/",
          "height": 500
        },
        "id": "mHfGIc3OKais",
        "outputId": "e0cebb3e-4782-4502-a1e7-b38734fc3b3e"
      },
      "execution_count": null,
      "outputs": [
        {
          "output_type": "display_data",
          "data": {
            "text/plain": [
              "<Figure size 1200x600 with 1 Axes>"
            ],
            "image/png": "[encoded data removed]"
          },
          "metadata": {}
        }
      ]
    },
    {
      "cell_type": "markdown",
      "source": [
        "# Agregando detalles para mejorar el cuadro"
      ],
      "metadata": {
        "id": "4KDOliynLEBk"
      }
    },
    {
      "cell_type": "code",
      "source": [
        "plt.figure(figsize= (12,6))\n",
        "plt.bar(x,y)\n",
        "plt.title('Top 10 Ventas de Personal', fontsize=15)\n",
        "plt.xlabel('Personal que Atendió', fontsize = 12)\n",
        "plt.xticks(fontsize=10)\n",
        "plt.ylabel('Precio', fontsize=12)\n",
        "plt.yticks(fontsize=10)\n",
        "plt.show()"
      ],
      "metadata": {
        "colab": {
          "base_uri": "https://localhost:8080/",
          "height": 535
        },
        "id": "jsPV7DO8LI-e",
        "outputId": "66a00a98-823d-4177-edf2-707d8511a5dc"
      },
      "execution_count": null,
      "outputs": [
        {
          "output_type": "display_data",
          "data": {
            "text/plain": [
              "<Figure size 1200x600 with 1 Axes>"
            ],
            "image/png": "[encoded data removed]"
          },
          "metadata": {}
        }
      ]
    },
    {
      "cell_type": "markdown",
      "source": [
        "# **Crear Subplots**"
      ],
      "metadata": {
        "id": "QpeZ0t56QVCN"
      }
    },
    {
      "cell_type": "code",
      "source": [
        "fig, ax = plt.subplots(figsize=(40,18))\n",
        "\n",
        "x = airlines_sorted['Atendió'][0:20]\n",
        "y = airlines_sorted['Precio'][0:20]\n",
        "y1 = airlines_sorted['Margen de beneficio'][0:20]\n",
        "\n",
        "plt.subplot(1,2,1)\n",
        "plt.bar(x,y)\n",
        "plt.xticks(fontsize=17)\n",
        "plt.ylabel('Precio', fontsize=25)\n",
        "plt.yticks(fontsize=20)\n",
        "plt.title('Top 10 Mejores vendedores', fontsize=25)\n",
        "\n",
        "plt.subplot(1,2,2)\n",
        "plt.bar(x,y1)\n",
        "plt.xticks(fontsize=17)\n",
        "plt.ylabel('Margen de beneficio', fontsize=25)\n",
        "plt.yticks(fontsize=20)\n",
        "plt.title('Top 10 Mejores vendedores', fontsize=25)\n",
        "plt.show()"
      ],
      "metadata": {
        "colab": {
          "base_uri": "https://localhost:8080/",
          "height": 503
        },
        "id": "TIbkw0zZQY6j",
        "outputId": "d950d3df-c397-480d-df58-11648e5dc842"
      },
      "execution_count": null,
      "outputs": [
        {
          "output_type": "stream",
          "name": "stderr",
          "text": [
            "<ipython-input-94-832ceb9891a6>:7: MatplotlibDeprecationWarning: Auto-removal of overlapping axes is deprecated since 3.6 and will be removed two minor releases later; explicitly call ax.remove() as needed.\n",
            "  plt.subplot(1,2,1)\n"
          ]
        },
        {
          "output_type": "display_data",
          "data": {
            "text/plain": [
              "<Figure size 4000x1800 with 2 Axes>"
            ],
            "image/png": "[encoded data removed]"
          },
          "metadata": {}
        }
      ]
    }
  ]
}