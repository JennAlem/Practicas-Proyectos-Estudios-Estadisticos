{
  "nbformat": 4,
  "nbformat_minor": 0,
  "metadata": {
    "colab": {
      "provenance": []
    },
    "kernelspec": {
      "name": "python3",
      "display_name": "Python 3"
    },
    "language_info": {
      "name": "python"
    }
  },
  "cells": [
    {
      "cell_type": "code",
      "execution_count": null,
      "metadata": {
        "id": "YINddXsPCAcK",
        "colab": {
          "base_uri": "https://localhost:8080/"
        },
        "outputId": "1ac5fafc-991a-43d6-b496-573f7f2df62f"
      },
      "outputs": [
        {
          "output_type": "stream",
          "name": "stdout",
          "text": [
            "                                              Name IATA ICAO         Callsign  \\\n",
            "0                                   Private flight    -  NaN              NaN   \n",
            "1                                      135 Airways  NaN  GNL          GENERAL   \n",
            "2                                    1Time Airline   1T  RNX          NEXTIME   \n",
            "3     2 Sqn No 1 Elementary Flying Training School  NaN  WYT              NaN   \n",
            "4                                  213 Flight Unit  NaN  TFU              NaN   \n",
            "...                                            ...  ...  ...              ...   \n",
            "6156                                   GX Airlines  NaN  CBG            SPRAY   \n",
            "6157                        Lynx Aviation (L3/SSX)  NaN  SSX           Shasta   \n",
            "6158                               Jetgo Australia   JG   \\N              NaN   \n",
            "6159                                  Air Carnival   2S   \\N              NaN   \n",
            "6160                                 Svyaz Rossiya   7R  SJM  RussianConnecty   \n",
            "\n",
            "             Country Active  \n",
            "0                NaN      Y  \n",
            "1      United States      N  \n",
            "2       South Africa      Y  \n",
            "3     United Kingdom      N  \n",
            "4             Russia      N  \n",
            "...              ...    ...  \n",
            "6156           China      Y  \n",
            "6157   United States      N  \n",
            "6158       Australia      Y  \n",
            "6159           India      Y  \n",
            "6160          Russia      Y  \n",
            "\n",
            "[6161 rows x 6 columns]\n"
          ]
        }
      ],
      "source": [
        "\n",
        "\n",
        "import pandas as pd\n",
        "\n",
        "data_py = pd.read_csv(\"airlines.csv\")\n",
        "print(data_py)\n"
      ]
    },
    {
      "cell_type": "code",
      "source": [
        "print(data_py)"
      ],
      "metadata": {
        "id": "6kNcVImPDnXl"
      },
      "execution_count": null,
      "outputs": []
    },
    {
      "cell_type": "code",
      "source": [
        "data_py.head()"
      ],
      "metadata": {
        "colab": {
          "base_uri": "https://localhost:8080/",
          "height": 206
        },
        "id": "HzwaTYv1D_v2",
        "outputId": "3e1875c7-bc20-46e8-de8f-42f3aca30bae"
      },
      "execution_count": null,
      "outputs": [
        {
          "output_type": "execute_result",
          "data": {
            "text/plain": [
              "                                           Name IATA ICAO Callsign  \\\n",
              "0                                Private flight    -  NaN      NaN   \n",
              "1                                   135 Airways  NaN  GNL  GENERAL   \n",
              "2                                 1Time Airline   1T  RNX  NEXTIME   \n",
              "3  2 Sqn No 1 Elementary Flying Training School  NaN  WYT      NaN   \n",
              "4                               213 Flight Unit  NaN  TFU      NaN   \n",
              "\n",
              "          Country Active  \n",
              "0             NaN      Y  \n",
              "1   United States      N  \n",
              "2    South Africa      Y  \n",
              "3  United Kingdom      N  \n",
              "4          Russia      N  "
            ],
            "text/html": [
              "\n",
              "  <div id=\"df-fe493227-2aca-4a7e-a7ad-541c30a6ae53\" class=\"colab-df-container\">\n",
              "    <div>\n",
              "<style scoped>\n",
              "    .dataframe tbody tr th:only-of-type {\n",
              "        vertical-align: middle;\n",
              "    }\n",
              "\n",
              "    .dataframe tbody tr th {\n",
              "        vertical-align: top;\n",
              "    }\n",
              "\n",
              "    .dataframe thead th {\n",
              "        text-align: right;\n",
              "    }\n",
              "</style>\n",
              "<table border=\"1\" class=\"dataframe\">\n",
              "  <thead>\n",
              "    <tr style=\"text-align: right;\">\n",
              "      <th></th>\n",
              "      <th>Name</th>\n",
              "      <th>IATA</th>\n",
              "      <th>ICAO</th>\n",
              "      <th>Callsign</th>\n",
              "      <th>Country</th>\n",
              "      <th>Active</th>\n",
              "    </tr>\n",
              "  </thead>\n",
              "  <tbody>\n",
              "    <tr>\n",
              "      <th>0</th>\n",
              "      <td>Private flight</td>\n",
              "      <td>-</td>\n",
              "      <td>NaN</td>\n",
              "      <td>NaN</td>\n",
              "      <td>NaN</td>\n",
              "      <td>Y</td>\n",
              "    </tr>\n",
              "    <tr>\n",
              "      <th>1</th>\n",
              "      <td>135 Airways</td>\n",
              "      <td>NaN</td>\n",
              "      <td>GNL</td>\n",
              "      <td>GENERAL</td>\n",
              "      <td>United States</td>\n",
              "      <td>N</td>\n",
              "    </tr>\n",
              "    <tr>\n",
              "      <th>2</th>\n",
              "      <td>1Time Airline</td>\n",
              "      <td>1T</td>\n",
              "      <td>RNX</td>\n",
              "      <td>NEXTIME</td>\n",
              "      <td>South Africa</td>\n",
              "      <td>Y</td>\n",
              "    </tr>\n",
              "    <tr>\n",
              "      <th>3</th>\n",
              "      <td>2 Sqn No 1 Elementary Flying Training School</td>\n",
              "      <td>NaN</td>\n",
              "      <td>WYT</td>\n",
              "      <td>NaN</td>\n",
              "      <td>United Kingdom</td>\n",
              "      <td>N</td>\n",
              "    </tr>\n",
              "    <tr>\n",
              "      <th>4</th>\n",
              "      <td>213 Flight Unit</td>\n",
              "      <td>NaN</td>\n",
              "      <td>TFU</td>\n",
              "      <td>NaN</td>\n",
              "      <td>Russia</td>\n",
              "      <td>N</td>\n",
              "    </tr>\n",
              "  </tbody>\n",
              "</table>\n",
              "</div>\n",
              "    <div class=\"colab-df-buttons\">\n",
              "\n",
              "  <div class=\"colab-df-container\">\n",
              "    <button class=\"colab-df-convert\" onclick=\"convertToInteractive('df-fe493227-2aca-4a7e-a7ad-541c30a6ae53')\"\n",
              "            title=\"Convert this dataframe to an interactive table.\"\n",
              "            style=\"display:none;\">\n",
              "\n",
              "  <svg xmlns=\"http://www.w3.org/2000/svg\" height=\"24px\" viewBox=\"0 -960 960 960\">\n",
              "    <path d=\"M120-120v-720h720v720H120Zm60-500h600v-160H180v160Zm220 220h160v-160H400v160Zm0 220h160v-160H400v160ZM180-400h160v-160H180v160Zm440 0h160v-160H620v160ZM180-180h160v-160H180v160Zm440 0h160v-160H620v160Z\"/>\n",
              "  </svg>\n",
              "    </button>\n",
              "\n",
              "  <style>\n",
              "    .colab-df-container {\n",
              "      display:flex;\n",
              "      gap: 12px;\n",
              "    }\n",
              "\n",
              "    .colab-df-convert {\n",
              "      background-color: #E8F0FE;\n",
              "      border: none;\n",
              "      border-radius: 50%;\n",
              "      cursor: pointer;\n",
              "      display: none;\n",
              "      fill: #1967D2;\n",
              "      height: 32px;\n",
              "      padding: 0 0 0 0;\n",
              "      width: 32px;\n",
              "    }\n",
              "\n",
              "    .colab-df-convert:hover {\n",
              "      background-color: #E2EBFA;\n",
              "      box-shadow: 0px 1px 2px rgba(60, 64, 67, 0.3), 0px 1px 3px 1px rgba(60, 64, 67, 0.15);\n",
              "      fill: #174EA6;\n",
              "    }\n",
              "\n",
              "    .colab-df-buttons div {\n",
              "      margin-bottom: 4px;\n",
              "    }\n",
              "\n",
              "    [theme=dark] .colab-df-convert {\n",
              "      background-color: #3B4455;\n",
              "      fill: #D2E3FC;\n",
              "    }\n",
              "\n",
              "    [theme=dark] .colab-df-convert:hover {\n",
              "      background-color: #434B5C;\n",
              "      box-shadow: 0px 1px 3px 1px rgba(0, 0, 0, 0.15);\n",
              "      filter: drop-shadow(0px 1px 2px rgba(0, 0, 0, 0.3));\n",
              "      fill: #FFFFFF;\n",
              "    }\n",
              "  </style>\n",
              "\n",
              "    <script>\n",
              "      const buttonEl =\n",
              "        document.querySelector('#df-fe493227-2aca-4a7e-a7ad-541c30a6ae53 button.colab-df-convert');\n",
              "      buttonEl.style.display =\n",
              "        google.colab.kernel.accessAllowed ? 'block' : 'none';\n",
              "\n",
              "      async function convertToInteractive(key) {\n",
              "        const element = document.querySelector('#df-fe493227-2aca-4a7e-a7ad-541c30a6ae53');\n",
              "        const dataTable =\n",
              "          await google.colab.kernel.invokeFunction('convertToInteractive',\n",
              "                                                    [key], {});\n",
              "        if (!dataTable) return;\n",
              "\n",
              "        const docLinkHtml = 'Like what you see? Visit the ' +\n",
              "          '<a target=\"_blank\" href=https://colab.research.google.com/notebooks/data_table.ipynb>data table notebook</a>'\n",
              "          + ' to learn more about interactive tables.';\n",
              "        element.innerHTML = '';\n",
              "        dataTable['output_type'] = 'display_data';\n",
              "        await google.colab.output.renderOutput(dataTable, element);\n",
              "        const docLink = document.createElement('div');\n",
              "        docLink.innerHTML = docLinkHtml;\n",
              "        element.appendChild(docLink);\n",
              "      }\n",
              "    </script>\n",
              "  </div>\n",
              "\n",
              "\n",
              "<div id=\"df-d17eae52-8039-454a-9005-17a5c89ae8d9\">\n",
              "  <button class=\"colab-df-quickchart\" onclick=\"quickchart('df-d17eae52-8039-454a-9005-17a5c89ae8d9')\"\n",
              "            title=\"Suggest charts.\"\n",
              "            style=\"display:none;\">\n",
              "\n",
              "<svg xmlns=\"http://www.w3.org/2000/svg\" height=\"24px\"viewBox=\"0 0 24 24\"\n",
              "     width=\"24px\">\n",
              "    <g>\n",
              "        <path d=\"M19 3H5c-1.1 0-2 .9-2 2v14c0 1.1.9 2 2 2h14c1.1 0 2-.9 2-2V5c0-1.1-.9-2-2-2zM9 17H7v-7h2v7zm4 0h-2V7h2v10zm4 0h-2v-4h2v4z\"/>\n",
              "    </g>\n",
              "</svg>\n",
              "  </button>\n",
              "\n",
              "<style>\n",
              "  .colab-df-quickchart {\n",
              "    background-color: #E8F0FE;\n",
              "    border: none;\n",
              "    border-radius: 50%;\n",
              "    cursor: pointer;\n",
              "    display: none;\n",
              "    fill: #1967D2;\n",
              "    height: 32px;\n",
              "    padding: 0 0 0 0;\n",
              "    width: 32px;\n",
              "  }\n",
              "\n",
              "  .colab-df-quickchart:hover {\n",
              "    background-color: #E2EBFA;\n",
              "    box-shadow: 0px 1px 2px rgba(60, 64, 67, 0.3), 0px 1px 3px 1px rgba(60, 64, 67, 0.15);\n",
              "    fill: #174EA6;\n",
              "  }\n",
              "\n",
              "  [theme=dark] .colab-df-quickchart {\n",
              "    background-color: #3B4455;\n",
              "    fill: #D2E3FC;\n",
              "  }\n",
              "\n",
              "  [theme=dark] .colab-df-quickchart:hover {\n",
              "    background-color: #434B5C;\n",
              "    box-shadow: 0px 1px 3px 1px rgba(0, 0, 0, 0.15);\n",
              "    filter: drop-shadow(0px 1px 2px rgba(0, 0, 0, 0.3));\n",
              "    fill: #FFFFFF;\n",
              "  }\n",
              "</style>\n",
              "\n",
              "  <script>\n",
              "    async function quickchart(key) {\n",
              "      const charts = await google.colab.kernel.invokeFunction(\n",
              "          'suggestCharts', [key], {});\n",
              "    }\n",
              "    (() => {\n",
              "      let quickchartButtonEl =\n",
              "        document.querySelector('#df-d17eae52-8039-454a-9005-17a5c89ae8d9 button');\n",
              "      quickchartButtonEl.style.display =\n",
              "        google.colab.kernel.accessAllowed ? 'block' : 'none';\n",
              "    })();\n",
              "  </script>\n",
              "</div>\n",
              "    </div>\n",
              "  </div>\n"
            ]
          },
          "metadata": {},
          "execution_count": 2
        }
      ]
    },
    {
      "cell_type": "code",
      "source": [
        "type(data_py)\n"
      ],
      "metadata": {
        "colab": {
          "base_uri": "https://localhost:8080/"
        },
        "id": "1Lug4KkXEdL4",
        "outputId": "8666e441-c42f-461a-c4f8-e420344f0375"
      },
      "execution_count": null,
      "outputs": [
        {
          "output_type": "execute_result",
          "data": {
            "text/plain": [
              "pandas.core.frame.DataFrame"
            ]
          },
          "metadata": {},
          "execution_count": 3
        }
      ]
    },
    {
      "cell_type": "code",
      "source": [
        "# Obtén los nombres de las columnas en R\n",
        "\n",
        "print(data_py.columns)"
      ],
      "metadata": {
        "colab": {
          "base_uri": "https://localhost:8080/"
        },
        "id": "rH6FEAhEFwX6",
        "outputId": "e1f3c1f5-c139-46b1-c857-b5c3d3be45f0"
      },
      "execution_count": null,
      "outputs": [
        {
          "output_type": "stream",
          "name": "stdout",
          "text": [
            "Index(['Name', 'IATA', 'ICAO', 'Callsign', 'Country', 'Active'], dtype='object')\n"
          ]
        }
      ]
    },
    {
      "cell_type": "code",
      "source": [
        "import pandas as pd\n",
        "\n",
        "na_values = [\"NA\"]"
      ],
      "metadata": {
        "id": "1fMISUmnGMen"
      },
      "execution_count": null,
      "outputs": []
    },
    {
      "cell_type": "code",
      "source": [
        "data_py = pd.read_csv(\"airlines.csv\")\n",
        "print(data_py)"
      ],
      "metadata": {
        "id": "QTQRka-KGdYe"
      },
      "execution_count": null,
      "outputs": []
    },
    {
      "cell_type": "markdown",
      "source": [
        "Identificamos el número de missing values en cada columna del *dataset*"
      ],
      "metadata": {
        "id": "QVTadL3rG-bB"
      }
    },
    {
      "cell_type": "code",
      "source": [
        "# Identificamos el número de missing values en cada columna\n",
        "data_py.isnull().sum()"
      ],
      "metadata": {
        "colab": {
          "base_uri": "https://localhost:8080/"
        },
        "id": "wA4VHtY9HD5h",
        "outputId": "49395f97-b58e-4189-88d8-56b1e8997944"
      },
      "execution_count": null,
      "outputs": [
        {
          "output_type": "execute_result",
          "data": {
            "text/plain": [
              "Name           0\n",
              "IATA        4627\n",
              "ICAO          86\n",
              "Callsign     808\n",
              "Country       15\n",
              "Active         0\n",
              "dtype: int64"
            ]
          },
          "metadata": {},
          "execution_count": 10
        }
      ]
    },
    {
      "cell_type": "code",
      "source": [
        "import seaborn as sns\n",
        "\n",
        "# Identificamos los missing values visualmente\n",
        "sns.heatmap(data_py.isnull(), cbar=False)"
      ],
      "metadata": {
        "colab": {
          "base_uri": "https://localhost:8080/",
          "height": 454
        },
        "id": "s5RHXuX_A9gv",
        "outputId": "d1ee5846-2996-44ca-d6c4-1264e1317af0"
      },
      "execution_count": null,
      "outputs": [
        {
          "output_type": "execute_result",
          "data": {
            "text/plain": [
              "<Axes: >"
            ]
          },
          "metadata": {},
          "execution_count": 11
        },
        {
          "output_type": "display_data",
          "data": {
            "text/plain": [
              "<Figure size 640x480 with 1 Axes>"
            ],
            "image/png": "[encoded data removed]"
          },
          "metadata": {}
        }
      ]
    },
    {
      "cell_type": "code",
      "source": [],
      "metadata": {
        "id": "bOn-8mx_BF0o"
      },
      "execution_count": null,
      "outputs": []
    }
  ]
}